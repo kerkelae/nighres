{
  "cells": [
    {
      "cell_type": "code",
      "execution_count": null,
      "metadata": {
        "collapsed": false
      },
      "outputs": [],
      "source": [
        "%matplotlib inline"
      ]
    },
    {
      "cell_type": "markdown",
      "metadata": {},
      "source": [
        "\nDOTS white matter segmentation\n==============================\n\nThis example shows how to perform white matter segmentation using Diffusion\nOriented Tract Segmentation (DOTS) algorithm [1]_:\n\n1. Downloading DOTS atlas prior informationg using\n    :func:`nighres.data.download_DOTS_atlas`\n2. Downloading an example DTI data set using\n    :func:`nighres.data.download_DTI_2mm`\n3. Segmenting white matter in DTI images into major tracts using \n    :func:`nighres.brain.dots_segmentation` [1]_\n4. Visualizing the results using matplotlib\n\n\n"
      ]
    },
    {
      "cell_type": "markdown",
      "metadata": {},
      "source": [
        "Import and download\n-------------------\nFirst we import ``nighres`` and ``os`` to set the output directory. Make sure \nto run this file in a  directory you have write access to, or change the \n``out_dir`` variable below. We can downloadthe  DOTS atlas priors and an \nexample DTI dataset using the following command. The registration step of the \nDOTS function relies on ``dipy``, so make sure you have installed it \n(https://nipy.org/dipy/).\n\n"
      ]
    },
    {
      "cell_type": "code",
      "execution_count": null,
      "metadata": {
        "collapsed": false
      },
      "outputs": [],
      "source": [
        "import os\nimport nighres\n\nin_dir = os.path.join(os.getcwd(), 'nighres_examples/data_sets')\nout_dir = os.path.join(os.getcwd(), 'nighres_examples/dots_segmentation')\nnighres.data.download_DOTS_atlas()\ndataset = nighres.data.download_DTI_2mm(in_dir)"
      ]
    },
    {
      "cell_type": "markdown",
      "metadata": {},
      "source": [
        "White matter segmentation\n-------------------------\nThe DOTS segmentation can be run as follows. By default, the algorithm uses\nthe tract atlas consisting of 23 tracts specified in [2]_. This can be changed\nto the full atlas by changing the value of the parameter 'wm_atlas' to 2. \nPlease see documentation for details.\n\n"
      ]
    },
    {
      "cell_type": "code",
      "execution_count": null,
      "metadata": {
        "collapsed": false
      },
      "outputs": [],
      "source": [
        "dots_results = nighres.brain.dots_segmentation(tensor_image=dataset['dti'],\n                                               mask=dataset['mask'],\n                                               save_data=True,\n                                               output_dir=out_dir,\n                                               file_name='DOTS_results.nii.gz')\nsegmentation = dots_results['segmentation']\nenergy = dots_results['energy']"
      ]
    },
    {
      "cell_type": "markdown",
      "metadata": {},
      "source": [
        ".. tip:: the parameter s_I controls how isotropic label energies propagate \n   to their neighborhood and can have a significant effect on tract volume.\n   Similarly, the value of the parameter convergence_threshold has an effect\n   on the results. Experiment with changin their values.\n\n"
      ]
    },
    {
      "cell_type": "markdown",
      "metadata": {},
      "source": [
        "Interpretation of results\n-------------------------\nThe integers in the segmentation array correspond to the tracts specified in\natlas_labels_1 (in case of using wm_atlas 1) which can be imported as follows\n\n"
      ]
    },
    {
      "cell_type": "code",
      "execution_count": null,
      "metadata": {
        "collapsed": false
      },
      "outputs": [],
      "source": [
        "from nighres.brain.dots_segmentation import atlas_labels_1"
      ]
    },
    {
      "cell_type": "markdown",
      "metadata": {},
      "source": [
        "Visualization of results\n------------------------\nWe can visualize the segmented tracts overlaid on top of a fractional \nanisotropy map. Let's first import the necessary modules and define a\ncolormap. Then, we calculate the FA map and show the tracts. Let's also\ncalculate a posterior probability and show an individual tract.\n\n"
      ]
    },
    {
      "cell_type": "code",
      "execution_count": null,
      "metadata": {
        "collapsed": false
      },
      "outputs": [],
      "source": [
        "import numpy as np\nimport nibabel as nb\nimport matplotlib.pyplot as plt\nfrom matplotlib import cm\nfrom matplotlib.colors import ListedColormap\n\n# This defines the following colormap\n# transparent = isotropic\n# semi-transparent red = other white matter\n# opaque colours = individual tracts\n# white = overlapping tracts\n\nN_t = 23\nN_o = 50\nnewcolors = np.zeros((N_t + N_o, 4))\nnewcolors[0,:] = np.array([.2, .2, .2, 0])\nnewcolors[1,:] = np.array([1, 0, 0, .25])\nrainbow = cm.get_cmap('rainbow', N_t - 2)\nnewcolors[2:N_t,:] = rainbow(np.linspace(0, 1, N_t - 2))\nnewcolors[N_t::,:] = np.ones(newcolors[N_t::,:].shape)\nnewcmp = ListedColormap(newcolors)\n\n# Calculate FA\ntensor_volume = nb.load(os.path.join(in_dir, 'DTI_2mm/DTI_2mm.nii.gz')).get_data()\nxs, ys, zs, _ = tensor_volume.shape\ntenfit = np.zeros((xs, ys, zs, 3, 3))\ntenfit[:,:,:,0,0] = tensor_volume[:,:,:,0]\ntenfit[:,:,:,1,1] = tensor_volume[:,:,:,1]\ntenfit[:,:,:,2,2] = tensor_volume[:,:,:,2]\ntenfit[:,:,:,0,1] = tensor_volume[:,:,:,3]\ntenfit[:,:,:,1,0] = tensor_volume[:,:,:,3]\ntenfit[:,:,:,0,2] = tensor_volume[:,:,:,4]\ntenfit[:,:,:,2,0] = tensor_volume[:,:,:,4]\ntenfit[:,:,:,1,2] = tensor_volume[:,:,:,5]\ntenfit[:,:,:,2,1] = tensor_volume[:,:,:,5]\ntenfit[np.isnan(tenfit)] = 0\nevals, evecs = np.linalg.eig(tenfit)   \nR = tenfit / np.trace(tenfit, axis1=3, axis2=4)[:,:,:,np.newaxis,np.newaxis]\nFA = np.sqrt(0.5 * (3 - 1/(np.trace(np.matmul(R,R), axis1=3, axis2=4))))\nFA[np.isnan(FA)] = 0\n\n# Show segmentation\nfig, ax = plt.subplots(1, 3, figsize=(28,5))\nax[0].imshow(np.rot90(FA[:,55,:]), cmap = 'gray', vmin = 0, vmax = 1)\nax[0].imshow(np.rot90(segmentation[:,55,:]), cmap=newcmp, alpha=.9)\nax[1].imshow(np.rot90(FA[:,:,30]), cmap = 'gray', vmin = 0, vmax = 1)\nax[1].imshow(np.rot90(segmentation[:,:,30]), cmap=newcmp, alpha=.9)\nax[2].imshow(np.rot90(FA[60,:,:]), cmap = 'gray', vmin = 0, vmax = 1)\nax[2].imshow(np.rot90(segmentation[60,:,:]), cmap=newcmp, alpha=.9)\nfor i in range(3):\n    ax[i].set_xticks([])\n    ax[i].set_yticks([])\nfig.tight_layout()\nfig.savefig('segmentation.png')\nplt.show()"
      ]
    },
    {
      "cell_type": "markdown",
      "metadata": {},
      "source": [
        "![](../_static/dots_hard_segmentation.png)\n\n############################################################################\n\n"
      ]
    },
    {
      "cell_type": "markdown",
      "metadata": {},
      "source": [
        "Visualization of posterior probabilities\n----------------------------------------\nWe can visualize the posterior probability of a tract of interest in the \nfollowing way. First, let's import the array tract_pair_sets_1 (or 2 in case\nof using wm_atlas 2). Then, let's import and run the function \ncalc_posterior_probability\n\n"
      ]
    },
    {
      "cell_type": "code",
      "execution_count": null,
      "metadata": {
        "collapsed": false
      },
      "outputs": [],
      "source": [
        "from nighres.brain.dots_segmentation import tract_pair_sets_1\nfrom nighres.brain.dots_segmentation import calc_posterior_probability\n\n# Select the corticospinal tract in the right hemisphere\ntract_idx = 10\n\n# Calculate posterior probability \np_l = calc_posterior_probability(tract_idx, energy, 1, tract_pair_sets_1)\n\n# Show results\np_l[p_l == 0] = np.nan\nfig, ax = plt.subplots(1, 3, figsize=(28,5))\nax[0].imshow(np.rot90(FA[:,55,:]), cmap = 'gray', vmin = 0, vmax = 1)\nax[0].imshow(np.rot90(p_l[:,55,:]), alpha = .75)\nax[1].imshow(np.rot90(FA[:,:,30]), cmap = 'gray', vmin = 0, vmax = 1)\nax[1].imshow(np.rot90(p_l[:,:,30]), alpha=.75)\nax[2].imshow(np.rot90(FA[60,:,:]), cmap = 'gray', vmin = 0, vmax = 1)\nax[2].imshow(np.rot90(p_l[60,:,:]), alpha=.75)\nfor i in range(3):\n    ax[i].set_xticks([])\n    ax[i].set_yticks([])\nfig.tight_layout()\nfig.savefig('CST_posterior.png')\nplt.show()"
      ]
    },
    {
      "cell_type": "markdown",
      "metadata": {},
      "source": [
        "![](../_static/dots_posterior_probability.png)\n\n############################################################################\n\n"
      ]
    },
    {
      "cell_type": "markdown",
      "metadata": {},
      "source": [
        "References\n----------\n.. [1] Bazin, Pierre-Louis, et al. \"Direct segmentation of the major white \n   matter tracts in diffusion tensor images.\" Neuroimage (2011)\n   doi: https://doi.org/10.1016/j.neuroimage.2011.06.020\n.. [2] Bazin, Pierre-Louis, et al. \"Efficient MRF segmentation of DTI white \n   matter tracts using an overlapping fiber model.\" Proceedings of the \n   International Workshop on Diffusion Modelling and Fiber Cup (2009)\n\n"
      ]
    }
  ],
  "metadata": {
    "kernelspec": {
      "display_name": "Python 3",
      "language": "python",
      "name": "python3"
    },
    "language_info": {
      "codemirror_mode": {
        "name": "ipython",
        "version": 3
      },
      "file_extension": ".py",
      "mimetype": "text/x-python",
      "name": "python",
      "nbconvert_exporter": "python",
      "pygments_lexer": "ipython3",
      "version": "3.6.4"
    }
  },
  "nbformat": 4,
  "nbformat_minor": 0
}