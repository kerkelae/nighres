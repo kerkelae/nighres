{
  "cells": [
    {
      "cell_type": "code",
      "execution_count": null,
      "metadata": {
        "collapsed": false
      },
      "outputs": [],
      "source": [
        "%matplotlib inline"
      ]
    },
    {
      "cell_type": "markdown",
      "metadata": {},
      "source": [
        "\nCortical depth estimation from MGDM segmentation\n=================================================\n\nThis example shows how to obtain a cortical laminar depth representation from\nan MGDM segmentation result with the following steps:\n\n1. Get a segmentation result from the *tissue_classification* example\n2. Extract the cortex of the left hemisphere with\n   :func:`nighres.brain.extract_brain_region`\n3. Cortical reconstruction with CRUISE\n   :func:`nighres.cortex.cruise_cortex_extraction` [1]_\n4. Anatomical depth estimation trough\n   :func:`nighres.laminar.volumetric_layering` [2]_\n\nImportant note: this example assumes you have run the tissue classification\nexample first (example_tissue_classification.py)\n\n"
      ]
    },
    {
      "cell_type": "markdown",
      "metadata": {},
      "source": [
        "Import and point to previous example\n-------------------------------------\nFirst we import ``nighres`` and the ``os`` module to set the output directory\nMake sure to run this file in a  directory you have write access to, or\nchange the ``out_dir`` variable below.\n\n"
      ]
    },
    {
      "cell_type": "code",
      "execution_count": null,
      "metadata": {
        "collapsed": false
      },
      "outputs": [],
      "source": [
        "import nighres\nimport os\n\nin_dir = os.path.join(os.getcwd(), 'nighres_examples/tissue_classification')\nout_dir = os.path.join(os.getcwd(),\n                       'nighres_examples/cortical_depth_estimation')"
      ]
    },
    {
      "cell_type": "markdown",
      "metadata": {},
      "source": [
        "We also try to import Nilearn plotting functions. If Nilearn is not\ninstalled, plotting will be skipped.\n\n"
      ]
    },
    {
      "cell_type": "code",
      "execution_count": null,
      "metadata": {
        "collapsed": false
      },
      "outputs": [],
      "source": [
        "skip_plots = False\ntry:\n    from nilearn import plotting\nexcept ImportError:\n    skip_plots = True\n    print('Nilearn could not be imported, plotting will be skipped')"
      ]
    },
    {
      "cell_type": "markdown",
      "metadata": {},
      "source": [
        "Now we pull the MGDM results from previous example\n\n"
      ]
    },
    {
      "cell_type": "code",
      "execution_count": null,
      "metadata": {
        "collapsed": false
      },
      "outputs": [],
      "source": [
        "segmentation = os.path.join(in_dir, 'sub001_sess1_mgdm-seg.nii.gz')\nboundary_dist = os.path.join(in_dir, 'sub001_sess1_mgdm-dist.nii.gz')\nmax_labels = os.path.join(in_dir, 'sub001_sess1_mgdm-lbls.nii.gz')\nmax_probas = os.path.join(in_dir, 'sub001_sess1_mgdm-mems.nii.gz')\n\nif not (os.path.isfile(segmentation) and os.path.isfile(boundary_dist)\n        and os.path.isfile(max_labels) and os.path.isfile(max_probas)) :\n    print('This example builds upon the example_tissue_segmentation.py one')\n    print('Please run it first')\n    exit()"
      ]
    },
    {
      "cell_type": "markdown",
      "metadata": {},
      "source": [
        "Region Extraction\n------------------\nHere we pull from the MGDM output the needed regions for cortical\nreconstruction: the GM cortex ('region'), the underlying WM (with filled\nsubcortex and ventricles, 'inside') and the surrounding CSF (with masked\nregions, 'background')\n\n"
      ]
    },
    {
      "cell_type": "code",
      "execution_count": null,
      "metadata": {
        "collapsed": false
      },
      "outputs": [],
      "source": [
        "cortex = nighres.brain.extract_brain_region(segmentation=segmentation,\n                                            levelset_boundary=boundary_dist,\n                                            maximum_membership=max_probas,\n                                            maximum_label=max_labels,\n                                            extracted_region='left_cerebrum',\n                                            save_data=True,\n                                            file_name='sub001_sess1_left_cerebrum',\n                                            output_dir=out_dir)"
      ]
    },
    {
      "cell_type": "markdown",
      "metadata": {},
      "source": [
        ".. tip:: in Nighres functions that have several outputs return a\n   dictionary storing the different outputs. You can find the keys in the\n   docstring by typing ``nighres.brain.mp2rage_extract_brain_region?`` or\n   list them with ``cortex.keys()``\n\nTo check if the extraction worked well we plot the GM and WM probabilities.\nYou can also open the images stored in ``out_dir`` in\nyour favourite interactive viewer and scroll through the volume.\n\nLike Nilearn, we use Nibabel SpatialImage objects to pass data internally.\nTherefore, we can directly plot the outputs using `Nilearn plotting functions\n<http://nilearn.github.io/plotting/index.html#different-plotting-functions>`_\n.\n\n"
      ]
    },
    {
      "cell_type": "code",
      "execution_count": null,
      "metadata": {
        "collapsed": false
      },
      "outputs": [],
      "source": [
        "if not skip_plots:\n    plotting.plot_img(cortex['region_proba'],\n                      vmin=0, vmax=1, cmap='autumn',  colorbar=True,\n                      annotate=False,  draw_cross=False)\n    plotting.plot_img(cortex['inside_proba'],\n                      vmin=0, vmax=1, cmap='autumn',  colorbar=True,\n                      annotate=False,  draw_cross=False)"
      ]
    },
    {
      "cell_type": "markdown",
      "metadata": {},
      "source": [
        "![](../_static/cortical_extraction1.png)\n\n###########################################################################\n\n"
      ]
    },
    {
      "cell_type": "markdown",
      "metadata": {},
      "source": [
        "![](../_static/cortical_extraction2.png)\n\n############################################################################\n\n"
      ]
    },
    {
      "cell_type": "markdown",
      "metadata": {},
      "source": [
        "CRUISE cortical reconstruction\n--------------------------------\nNext, we use the extracted data as input for cortex reconstruction with the\nCRUISE algorithm. CRUISE works with the membership functions as a guide and\nthe WM inside mask as a (topologically spherical) starting point to grow a\nrefined GM/WM boundary and CSF/GM boundary\n\n"
      ]
    },
    {
      "cell_type": "code",
      "execution_count": null,
      "metadata": {
        "collapsed": false
      },
      "outputs": [],
      "source": [
        "cruise = nighres.cortex.cruise_cortex_extraction(\n                        init_image=cortex['inside_mask'],\n                        wm_image=cortex['inside_proba'],\n                        gm_image=cortex['region_proba'],\n                        csf_image=cortex['background_proba'],\n                        normalize_probabilities=True,\n                        save_data=True,\n                        file_name=\"sub001_sess1_left_cerebrum\",\n                        output_dir=out_dir)"
      ]
    },
    {
      "cell_type": "markdown",
      "metadata": {},
      "source": [
        "Now we look at the topology-constrained segmentation CRUISE created\n\n"
      ]
    },
    {
      "cell_type": "code",
      "execution_count": null,
      "metadata": {
        "collapsed": false
      },
      "outputs": [],
      "source": [
        "if not skip_plots:\n    plotting.plot_img(cruise['cortex'],\n                      vmin=0, vmax=2, cmap='cubehelix',  colorbar=True,\n                      annotate=False,  draw_cross=False)"
      ]
    },
    {
      "cell_type": "markdown",
      "metadata": {},
      "source": [
        "![](../_static/cortical_extraction3.png)\n\n##########################################################################\n\n"
      ]
    },
    {
      "cell_type": "markdown",
      "metadata": {},
      "source": [
        "Volumetric layering\n---------------------\nFinally, we use the GM/WM boundary (GWB) and CSF/GM boundary (CGB) from\nCRUISE to compute cortical depth with a volume-preserving technique\n\n"
      ]
    },
    {
      "cell_type": "code",
      "execution_count": null,
      "metadata": {
        "collapsed": false
      },
      "outputs": [],
      "source": [
        "depth = nighres.laminar.volumetric_layering(\n                        inner_levelset=cruise['gwb'],\n                        outer_levelset=cruise['cgb'],\n                        n_layers=4,\n                        save_data=True,\n                        file_name=\"sub001_sess1_left_cerebrum\",\n                        output_dir=out_dir)"
      ]
    },
    {
      "cell_type": "markdown",
      "metadata": {},
      "source": [
        "Now we look at the laminar depth estimates\n\n"
      ]
    },
    {
      "cell_type": "code",
      "execution_count": null,
      "metadata": {
        "collapsed": false
      },
      "outputs": [],
      "source": [
        "if not skip_plots:\n    plotting.plot_img(depth['depth'],\n                      vmin=0, vmax=1, cmap='autumn',  colorbar=True,\n                      annotate=False,  draw_cross=False)"
      ]
    },
    {
      "cell_type": "markdown",
      "metadata": {},
      "source": [
        "![](../_static/cortical_extraction4.png)\n\n############################################################################\n\n"
      ]
    },
    {
      "cell_type": "markdown",
      "metadata": {},
      "source": [
        "If the example is not run in a jupyter notebook, render the plots:\n\n"
      ]
    },
    {
      "cell_type": "code",
      "execution_count": null,
      "metadata": {
        "collapsed": false
      },
      "outputs": [],
      "source": [
        "if not skip_plots:\n    plotting.show()"
      ]
    },
    {
      "cell_type": "markdown",
      "metadata": {},
      "source": [
        "References\n-----------\n.. [1] Han et al (2004) CRUISE: Cortical Reconstruction Using Implicit\n      Surface Evolution, NeuroImage, vol. 23, pp. 997--1012.\n.. [2] Waehnert et al (2014) Anatomically motivated modeling of cortical\n      laminae. DOI: 10.1016/j.neuroimage.2013.03.078\n\n"
      ]
    }
  ],
  "metadata": {
    "kernelspec": {
      "display_name": "Python 3",
      "language": "python",
      "name": "python3"
    },
    "language_info": {
      "codemirror_mode": {
        "name": "ipython",
        "version": 3
      },
      "file_extension": ".py",
      "mimetype": "text/x-python",
      "name": "python",
      "nbconvert_exporter": "python",
      "pygments_lexer": "ipython3",
      "version": "3.6.4"
    }
  },
  "nbformat": 4,
  "nbformat_minor": 0
}